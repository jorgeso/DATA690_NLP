{
 "cells": [
  {
   "cell_type": "markdown",
   "id": "variable-yemen",
   "metadata": {},
   "source": [
    "# Exercise 1"
   ]
  },
  {
   "cell_type": "code",
   "execution_count": 1,
   "id": "convertible-ancient",
   "metadata": {},
   "outputs": [],
   "source": [
    "import markovify\n",
    "import pandas as pd"
   ]
  },
  {
   "cell_type": "code",
   "execution_count": 9,
   "id": "military-garage",
   "metadata": {},
   "outputs": [
    {
     "name": "stdout",
     "output_type": "stream",
     "text": [
      "   publish_date                                      headline_text\n",
      "0      20030219  aba decides against community broadcasting lic...\n",
      "1      20030219     act fire witnesses must be aware of defamation\n",
      "2      20030219     a g calls for infrastructure protection summit\n"
     ]
    }
   ],
   "source": [
    "inp = pd.read_csv('./data/abcnews-date-text.csv')\n",
    "print(inp.head(3))"
   ]
  },
  {
   "cell_type": "code",
   "execution_count": 15,
   "id": "multiple-register",
   "metadata": {},
   "outputs": [
    {
     "name": "stdout",
     "output_type": "stream",
     "text": [
      "\n",
      "sentence 1 ----------------------\n",
      "\n",
      "902 drink drivers face tougher scrutiny. scheme tackles kidney disease. nt water safety warning. higher quality of life croft. fuel tanker terrorist attack. chief justice reappointed to office. crowd numbers down. australia loses to czech republic. opposition concerned about anthrax. afl pushes ahead with development row. sa wins 77kg mens weightlifting gold. tas foodies taste sweet success. thomas happy to be revealed. tuqiri sacking remains a mystery. philippines election rodrigo duterte officially declared a breach of leases. councillor criticises robinvale promotional levy. dangerous conditions in nsw. world cup all clear. kreuzer to step up road rage. millions infected by dengue fever. mayor warns glenelg library can not find work. moyne council opts for trial on terror to wwii. bush may have freed man. more funds may be launched in liberal party has to change. us thwarts cocaine submarine off colombia. vixens continue winning ways.\n",
      "\n",
      "sentence 2 ----------------------\n",
      "\n",
      "15m burnie waterfront plans appalling schofield. water supplies continue despite big catches. mudslide aid delays anger residents. you can not be safe. more compassion doyle. ludicrous plan threatens 660 energy jobs. minister ama boss not a walk on the line. weather monitoring system introduced. oombulgurri becomes ghost town. giddings backs federal water minister graham. gerald mccarthy mininster for transport overhaul. greenwood set to start. merbein sawmills to stand on. womens work ursula tunks. yemen air strike on friday. tas team in south africa. why lamb roast is off the gold coast. deakes out of control party. police locate missing children. police investigate bottle shop burglars caught on cctv. the spy boffins up. madsen wins euro tour with cultural. nsw country hour. phoenix add ward to close. snp ratings downgrade. thai buddhist monks health ruined by telegraph article court hears. marine marker on beach rd. rocketman flys over channel. russian navy joins us in political campaign road safety the priority in search for boy continues. road spikes end cross border drugs. polish pm hurt in canada stores. closed doors as drought wears on. scott morrison says. unemployment eases for now. lions fly in skorean parliament. vuitton clad official spouts socialism. warriors build solid lead. redbacks set mild total at rain hit canadian open. sa police make 77m drug bust.\n",
      "\n",
      "sentence 3 ----------------------\n",
      "\n",
      "17 killed in illegal fishing nets. dust and noise upset maternity ward. roff calls it quits. child abuse crackdown. goulburn valley hospital waiting times. plea for workchoices lite. leading republicans urge bush to lead world. teen to front court on accessory to murder charge. man who murdered girl to death. new campaign to focus on family budget with average 75pc. bangladesh grains. barns evidence not infallible hulls. doubts over teachers move to regions. self portrait up for nye big bang. beijing holds full opening ceremony dazzles crowd. opening ceremony australia day gongs. farmers market planned for narrabri gas project. nsw opposition critical of church over paedophile. iag to slash jobs. droughts toll on animals. rains take toll on neighbourhood. closer am1. colombia ammunition depot explodes six missing. concerns grow for missing persons. wine producers concerned about water appeals. us lawmakers push cable industry for mental health issues report finds. nt police attacked during n ireland army base brumby cull. cameron rahles rahbula snags another film honour. rollery derby takes off from kennedy. spacex rocket blasts off aboard soyuz. us stocks mixed on european tour. overseas investors driving up land for visitor. school asks govt to be sainted. mayfield man bashed after car stolen from. severe weather warning issued for south east aged care. review finds in favour of. daylesford blaze claims warmun house. bligh says andrewss refugee comments racist. blood rubies bankroll burmese junta.\n",
      "\n",
      "sentence 4 ----------------------\n",
      "\n",
      "60 million compo. sawmill operator seeks investor funds. devonport melbourne ferry fares may rise. merger plan feedback. democrats find laws restricting winegrowers hard. duffield mayne re sign von bertouch. jackson meeting hobbit actors. jets pull off record jewel heist. maradona threatened at gun licence system overhaul. mp asked to take custody of child. cremated bodies to help save lives. un chief discuss climate change effects. federal reserve intervenes to save trees. country schools miss out on anzac day parades. thousands gather for hickey memorial. reds aim to boost broome tourism. launceston man dangerous criminal. share market fall. australia religion census 2016 will you have probably broken. ten network posts $232m half year profit by 17 runs to crime prevention fund. committal hearing begins in sydney. leg injury compounds canberra loss. solon litigation hinges on handful of seats. two killed in crash victim. police search for driver as crash victim succumbs to umpiring pressure. bernardi birmingham winners in pay row. claims of illegal home drug. police take longer than ever. socceroos ange postecoglou announces he will continue. view from the pool at panpacs. vidic pens fresh united deal. voters leave australia over northern suburbs drug find. federer through third round. stuttering serena reaches last eight in baghdad. franks inspects war zone in syria. salute the sun. national aboriginal cell visitor scheme. calliope surface water management plan. mayor gives nod to mudcrab farm. council joins effort to speed boat crash. iran requests clarification on gp clinic numbers. latham aims to reduce water use. rabobank to buy sell. bringing people together one beach sculpture at barangaroo returns to home base. late night sitting. action not talk to sea in far north nsw. floods continue to practise humane mulesing. canker program to tackle homelessness. calls for speed limit plan. independent charity regulator contact aussie helpers needs more water to. poultry industry growth sparks market optimism. us vows to fight 12 priority pathogens. young arrest alleged drug ring. agreement reached on intelligent island funds. albany mayor hopes no houses will flood this week. breast tattoos help cancer research. new tourism outlook planned for aust soldier. goulburn island man seen. missing horse is not good enough evans agrees. villawood conditions disgraceful hreoc. villawood conditions prison like conditions. accused taxi thieves crackdown. police mediate in doctor training places. liberals pledge $10m to fijis cyclone winston nears tonga and fiji. david cameron resigns after sars scare. police seize car crash at darwin beaches what being the first incident. bartlett wine ruckus highly inappropriate. beethoven manuscript sells for 263 a bowl. bulls maul stormers to finish degrees at churchill campus. study considers leasing out mildura airport. a big country outback volunteers respond to flakes decision. robbie maddison rides to cost tens of thousands sulfur. he was advised against air travel delays. climate change emergency gore. no compromise in oil for north west fires. charges laid over greenacre shooting. child deaths health dept. charges laid over boy chained to tree in kerang. class action over election actions. woman dies in crash. forum hears call for ports bottleneck howard. study offers support for pms referendum. act remains horse flu scare couple face bankruptcy threat. leigh whicker announces the coalition is the king of the net. poverty health need to know. woman finds bullet in head victim of individual deportation cases. rural counselling service. funds pave way for hardie proceedings. liberals promise fully funded state gov warns sydney lock down canberra massage parlour. mandatory meth testing industry scamming australian public. update headline. volkswagen ceo apologises for saying jungle drums in parliament. fidel they said it.\n",
      "\n",
      "sentence 5 ----------------------\n",
      "\n",
      "22 dead in wa kimberley coast pounded by ex court employee jailed for life. anglers take to adopt document destruction laws. still time to lodge tax returns. naplan report reveals tube commuter stress. dont gloat over malcolms demise. early start to the pill and ovarian cancer vaccine hunt continues. docs caring for disadvantaged childcare centres. s korea trades film quota for contracts. search resumes for croc safari decision. govt asked for preferred site. wind farm plan. concerns aired over biodiesel funding decision. two escape unhurt after gaza tunnel collapse. une performs well in new plan. music festival teens sorry. researchers develop fire resistant plastic. review considers monaro maternity services. gold coast schoolie. man charged with sex offences court. chalkbrood fungal disease could be felt in aceh. adelaide leaps to freedom. gallery finds new medical centre expansion. games baton protest. alcohol fuelled assaults on melbourne airport. community forum 7 diverse views with ross solly on. african climes a snug fit for confederations qualifier. properties under threat from ivan like conditions. attorney not allowed nsw police. ange turns around after mobile phone coverage woes. road safety hotline. qld minister relaxes mp school visit rules. radical intervention on manus. child pornography charges. bega council gets tough on liquor licensing chief urged to pay 3m over product safety case. mining groups launch health and safety audits. rauhihi set to host euro 2012 bid. patients threaten to sue mine over pay work conditions. de facto murder riverwood public housing. south africa to win. us eagles qualify for year ending wta championships. conference hears of second rogue surgeon. hudson to sing jackson duet. government admits it appears he killed wife and prince harry starts jackaroo job in vic face night battle. firm develops shark shield used for drinking water supply. govt urged to boost indigenous employment. wa liberals shoot selves in foot and mouth threat. local govt group looks to boost aged care resident dies in fatal fire. arthurs gets last gasp win. rebel leader returns.\n",
      "\n",
      "sentence 6 ----------------------\n",
      "\n"
     ]
    },
    {
     "name": "stdout",
     "output_type": "stream",
     "text": [
      "2016 census to small to do damage. city country income divide. demolition starts to slow. nt man jailed for child sex crimes. air war opposition. turf clubs deep in search of a female. clean coal research. concern over estate agents warned over fine for fishing licence fees. gunners loaded for historic flag. national party electorates cash in on race day. leave hewitt alone philippoussis. leblanc to stay with demons. funding sought for officer charged over balloon boy hoax. fiji welcomes nz stance change. fires still burn. staffer to justice david beachs judgement in risborg case. omodei shocked by fire court told. drunk now defined in planned sa laws. egyptian soldiers in yemen. coles woolworths shops. revisiting some of sports for increasing taxes pm. syrian government to act after severe storm. camp australia banned from wa education jobs moving to mallee lake. eat seasonally and trade top topics for apec invasion. independent panel to approve mcarthur river mine to investigate police access. public input sought on draft coastal management. candidates prepare for internet outage with $25 credit customers. thousands protests against custody. elliott closes on last year.\n",
      "\n",
      "sentence 7 ----------------------\n",
      "\n",
      "16 suffer smoke inhalation drug. sale of dog in china. scooter rider tries to hide weapon court told. japan death toll hits 16. nine lives come in handy for kitty hawk. telstra warns of more deals with india. perth stadium already. hoani hearne bit into a service station. sa records new rainfall records still tumbling. land council member recovers after second scare. relieved qantas passengers furious after latest diagnosis. len collins a tully district banana farmer tells. liberals consider midland candidate offensive tweets prompts sacking call. minister weighs return of their destiny says. renewed calls for pm to reveal a spoiler. israel turkey ties sinking in brogan. prison officer scott craig berridge charged. warning shot sport gender equity. deadline looms for council staff. union highlights port lincoln man recovering after rba rates on hold. was trumps appeal to mother and stepdad jailed after facebook killing. the indigenous gap widens. esperance lead contamination report. equine flu cases who. emergency service workers are facing pressure. pietersen threatened to bury. stoner wins but rossi takes czech pole from hayden. giteau succumbs to cancer. eagles hit back at lang park. reef authority downplays sewage spill raises health concerns. shell axes 100 jobs at risk of trauma after berlin triumph. phone outage may take action union. tenants warned to prepare for rep match. trescothick reaches century vs india. services index december. white charged with stealing. police continue inquiry into. fire equipment stolen in home invasion. episode 32: hola donaldo. europe sees china as sars cover up. un chief to take over from budget table. territory ringer rodney lee beaumont. thats not inflation. injuries add to pharmaceutical ills. iran open to reviewing actpla. govt moves to implement agriculture research concerns. fenukitau gets world heritage listing. yarloops manuka province potential in mid north coast police to arrest prime minister says protests are pushing for more nurses. one killed 20 injured in afghan border reports. no theory favoured on egyptair crash; egypt president says. matildas go down well with quick win. first cut tight security sydney westconnex protest. inquiry into juvenile justice. opposition fears more pokies revenue. copper miners sign pilbara mining site. man in hospital after mildura house blaze suspicious. police follow crashed car. woman wins woodford writing prize. job ads hit 12 month high. shot fired during sydney mugging. policeman injured in alleged extortion ring. anti desalination protesters go to federal.\n",
      "\n",
      "sentence 8 ----------------------\n",
      "\n",
      "10000 turn out for dodgy roof painters. push on for gritty 1 0 to move back home. energy banking sectors boost market. banks help local men witnesses. new australian citizens. safety crackdown nets centrelink cheats. rockhampton zoo home. sa premier cancels whyalla trip to highlight gender bias in australian gp saved by phone scammer. western power confident of an aboriginal art success farewells sydney. afghan children lose fight against qld academy. india targets reid as bowling coach. industry chiefs to meet over planned kunanyi mount wellington development proposals. administrator appointed to sa pokies reduction. promises wanted on moving qantas jet. england recalls world cup. matildas meet japan in world title. giant pandas have baby boom. colombian rebels claim most of newstart rental stress. what happens to weather financial storm. how the gonski funding benefits. police investigate security firm break in. men guilty over fatal stabbing at party. perth traders battle pop ups and downs of mountain fall. women warned of fire prone hotel should be off limits. drought puts salvos flying padre wins the new blues boss to resign. ex health service board members. negotiations underway for breakaway comp leaving new zealand. dementia may begin in china. flying foxes move to block far north qld for 20 years expands to trevenson park. deadly typhoon megi hits china. injury toll reaches 26. supermarket an option for northern. new qld sites join world surfing title. steph gilmore poised to invest 2b in brazil drug violence. eu leaders reach key deals on stop and search. china quake region. rudd blames smiling predator costello for tax cuts for upper. britain looks for smooth rebound. beef producer unprofitable since. bacteria poses threat to supremacy. fifty people already arrested under katherines new. fireworks installed for merchant navy. webb and hull applying heat. aussies wrap up today. election blog live september 7. prince george first day back. qld tourism operators. murray irrigation poised to unveil carbon bill changes. ad campaign sour grapes. rippers leadership under challenge at masters. youth week ends in shooting. mcculkins murder trial in mutilation murders. seven killed in chechen blast. funds to move stock as death toll. us to shore up support to investigate hospital toilet police probe jail bashing. tamworth fills up dams in se qld. house prices rise. agreement helps curb mullewa crime. kendall jackson country. johnson worried by referee blunder. a different era. gilchrist fined symonds cleared. gilchrist fined for trespassing on building. govt announces illawarra health recognised for excelling in stem. wikileaks claims cia hacks phones via loopholes. wikileaks releases documents in trump sons speech not free of pmws disease. nt wins 120000 boost to take pipeline concerns going. murder charge after restaurant. police in cbd. suspects held over bali bombings. wallaby jersey to remember sisulu. top iraqi policeman killed in syrian hostilities. turkey says still friends with us partner. world cup visa debacle. cattle id scheme to target road widening.\n",
      "\n",
      "sentence 9 ----------------------\n",
      "\n",
      "5cm fossilised ant found in stolen car crashes. police keep post mortem fails to reach 1000 game milestone. brazil details dictatorship atrocities. bright wants destination marketing. burrells alibi flawed prosecutor says. outback cattle drive. climate talks still frozen. uni urged to toughen cannabis. fed tax laws first on the nose. pet death prompts mini motorbikes warning. delta blues takes out tahiti event. government policies charges stifling housing growth. mudgee residents lobby for kyoto carr says. two appear on hannah montana. deadly brew kills 25 afghan police building. two arrested after assault in brisbane. cars targeted by ticket resellers. the highs and lows for rain as damage assessment begins. more snow predicted after thomas. two die in separate crashes. chinese artists studio demolished. cipriani handed leadership role. drought highlights gm crops become more expensive. cricket players duck to avoid military action after chemical spill. police investigating alleged hotel brawl. mcgee permanent stay bid rejected. action on water conservation. group calls for fed cup tie. psa wonders at national museum. australia pakistan first test day five in iraq. test a one off deal flagged for vic farmers. seafood industry happy with fracking company unlikely to risk of heart surgery successful after f3 fatal. cops stop drugs union says. nrl interviews john aloisi not worried about coraki area guns theft. port phillip bay dredging. nias crisis worse than feared. al qaeda cell. hamas vows severe reply to hamas attacks. jandowae timber festival under threat from ongoing wood theft. tasmanian labor pokies policy. hear me out backstory. hear me out. is there enough water for baby killer. dravid cracks 134 as india capitulate. authorities prepare for horror conditions. victorian presnell takes out tahiti event. kojonup farmer third on nbl and a prayer. budget delivers 9pc rate rise. both sides of forest firefighters. well wishers see queen off.\n",
      "\n",
      "sentence 10 ----------------------\n",
      "\n"
     ]
    },
    {
     "name": "stdout",
     "output_type": "stream",
     "text": [
      "43 african migrants drown off greece. paedophile priest gerald ridsdale testimony beggars belief. dettori and australians to celebrate not violate. zimbabwe opposition lawyers. police investigate braybrook shooting. predictions kiama house prices surge over usd 50. post mortem results to take action against journalist. bore water danger. the damage from 1980s bombing. footage shows hit and run driver. police release names of couple near sandstone. second black box found at waterhole. bp confirms hayward departure. bps new boss vows to hunt smugglers questioned. australias drone war in middle east visit may boost qld tourism. fighting intensifies in liberia massacre. hundreds rally for action on youth day will always gravitate back to winning start. giggs could overtake sydney. can the beef capital. nsw governor on 702 mornings. nsw jobless rate falls. nattas. nets edge celtics. st george flood zone. rogers stays second in japan. act govts hands tied over roxby downs community reacts with horror. sydney well prepared for trump in debate. low rock thrower strikes as adelaide crushes binh duong. business editor peter ryan looks at new post float high. baby boy video clip. banking royal commission live blog. australian open semi finals with crocs blitz. kosmina not appealing his ban. surfing parks in demand for. western force stay. stones add 10 tracks to merge. hong kong urged to take blaze. basin guide burnt in angling club stung by box jellyfish. work begins on new money. kimberley man gets 14 months extra in funding as financial slide leads market higher. firebirds thrash lowly trinidad. hollywood festival to include local road changes. costello accuses play of propaganda. ipswich city councils receive 26m in fed cup tie. bjork turns venture capitalist. bligh urges calm after fatal assault. police plea for drivers and fatigue worry australia. iran says revolution crosses borders. a peek at womadelaide 2011 line up. tas country hour 07 march 2018. watch: man hit with rioli two week jump on profit downgrade fears. shearing shed in sydneys west. mans life transformed by sale of westfield creates the best use of. australian garlic 0408. australia wins four of the top four. swifts secure grand final draws in rome. police probe suspicious hotel death. nab miners buoy australian market. beef quota made fta negotiations with territory clp over kakadu. federer shakes off dizzy spell to win in new zealand. chinese leader tours riverland. sarkozy sworn in as governor calls for 10b public transport smart card sacrificed ahead of rio after hamstring injury. kerin confident of recession receding minack. christmas party incident. man charged over shooting incident. market flat after morning peak. martin admits school violence response. community urged to join wolves from atletico. bridge decision a bandaid solution alp. new zealand greenpeace activist. safety expert tells inquest. prime minister is in store for qld opposition. indonesian fishermen detained boats seized. mori stars as eels successor. holman strikes in victoria. victoras consumer watchdog puts hearing aid restores surround sound. hickss case unfair. sa cricketers face rape charges. vic nz seek to salvage mark butlers place in politics. perpetual shares slide. australian soldier killed in separate road accidents.\n"
     ]
    }
   ],
   "source": [
    "train_text = '. '.join(inp.loc[:, 'headline_text'].values)\n",
    "\n",
    "text_model = markovify.Text(train_text)\n",
    "\n",
    "for i in range(10):\n",
    "    print(f'\\nsentence {i + 1} ----------------------\\n')\n",
    "    print(text_model.make_sentence())"
   ]
  },
  {
   "cell_type": "markdown",
   "id": "enormous-valve",
   "metadata": {},
   "source": [
    "# Exercise 2"
   ]
  },
  {
   "cell_type": "code",
   "execution_count": 18,
   "id": "supported-spokesman",
   "metadata": {},
   "outputs": [
    {
     "name": "stdout",
     "output_type": "stream",
     "text": [
      "Summary:\n",
      "\n",
      "Now married with four children, Wilkinson was told she would need spinal surgery not just to dive, but to safely do everyday activities with her children.\n",
      "Wilkinson had the surgery and rushed to get back into the water ahead of the 2020 Olympic trials.\n"
     ]
    }
   ],
   "source": [
    "from gensim.summarization import summarize\n",
    "\n",
    "with open('./data/jumper.txt', 'r') as reader:\n",
    "    jumper_text = reader.read()\n",
    "\n",
    "print ('Summary:\\n')\n",
    "print (summarize(jumper_text))"
   ]
  },
  {
   "cell_type": "code",
   "execution_count": 19,
   "id": "together-thought",
   "metadata": {},
   "outputs": [
    {
     "name": "stdout",
     "output_type": "stream",
     "text": [
      "wilkinson\n",
      "olympic\n",
      "spinal\n",
      "diving\n",
      "dive\n",
      "major world\n",
      "titles\n",
      "revealed\n",
      "foot\n",
      "drop\n",
      "told\n",
      "flipped\n",
      "laura\n"
     ]
    }
   ],
   "source": [
    "from gensim.summarization import keywords\n",
    "print(keywords(jumper_text))"
   ]
  },
  {
   "cell_type": "code",
   "execution_count": 33,
   "id": "about-gates",
   "metadata": {},
   "outputs": [
    {
     "name": "stdout",
     "output_type": "stream",
     "text": [
      "[]\n"
     ]
    }
   ],
   "source": [
    "from gensim.summarization import mz_keywords\n",
    "\n",
    "mz_keywords_results = mz_keywords(jumper_text, scores=True, weighted=True, threshold='auto')\n",
    "print(mz_keywords_results)"
   ]
  },
  {
   "cell_type": "markdown",
   "id": "equal-elements",
   "metadata": {},
   "source": [
    "I tried a number of different parameters for the mz_keywords function but it always returned and empty list, or just null. In one article, I read that mz_keywords works best on long texts (https://www.kite.com/python/docs/gensim.summarization.mz_keywords), so I'm just assuming this text is not long enough. Or since this is based on measure of entropy, maybe there is not enough information gain."
   ]
  },
  {
   "cell_type": "markdown",
   "id": "designed-india",
   "metadata": {},
   "source": [
    "# Exercise 3"
   ]
  },
  {
   "cell_type": "code",
   "execution_count": 53,
   "id": "fifth-liver",
   "metadata": {},
   "outputs": [],
   "source": [
    "from sklearn.decomposition import NMF\n",
    "from sklearn.feature_extraction.text import TfidfVectorizer\n",
    "import numpy as np"
   ]
  },
  {
   "cell_type": "code",
   "execution_count": 55,
   "id": "atmospheric-category",
   "metadata": {},
   "outputs": [
    {
     "name": "stdout",
     "output_type": "stream",
     "text": [
      "Topic 1: major,speeds,leave,mri,discs,hitting,car,repeatedly,neck,quadriplegic\n",
      "Topic 2: olympian,fear,wilkinson,height,platform,building,jumping,laura,broke,story\n",
      "Topic 3: win,injury,retirement,titles,comeback,woman,42,recovery,diving,wilkinson\n",
      "Topic 4: staring,adrenaline,pumping,dominate,decade,flipped,career,overcome,diving,strong\n",
      "Topic 5: told,wilkinson,just,safely,activities,ahead,olympic,married,2020,surgery\n",
      "Topic 6: quadriplegic,repeatedly,revealed,warned,discs,doctor,accident,fall,high,bad\n",
      "Topic 7: training,weakness,games,2020,arms,originally,scheduled,unfamiliar,tokyo,compete\n",
      "Topic 8: challenges,foot,dominate,overcome,staring,drop,33,sport,intimidating,strong\n",
      "Topic 9: worldwide,dangerous,2000,woman,olympic,face,attempting,comeback,games,recovery\n",
      "Topic 10: unfamiliar,originally,2020,games,july,arms,resumed,training,weakness,felt\n",
      "Topic 11: damage,quadriplegic,caused,neck,story,mri,platform,fear,height,olympian\n",
      "Topic 12: medal,told,hungry,2000,cnn,face,injury,dangerous,wilkinson,diving\n",
      "Topic 13: rushed,2020,just,married,need,dive,surgery,wilkinson,children,told\n",
      "Topic 14: story,broke,wilkinson,laura,jumping,building,platform,height,fear,olympian\n",
      "Topic 15: career,water,doctor,car,caused,major,mri,leave,damage,large\n",
      "Topic 16: old,retirement,face,42,major,injury,years,including,told,hungry\n",
      "Topic 17: strong,water,adrenaline,career,diving,challenges,pumping,gracefully,decade,flipped\n",
      "Topic 18: win,cnn,woman,comeback,world,dangerous,year,worldwide,pandemic,medal\n",
      "Topic 19: just,wilkinson,water,everyday,need,spinal,trials,dive,rushed,children\n",
      "Topic 20: training,tokyo,felt,games,resumed,originally,scheduled,july,wilkinson,nagging\n"
     ]
    }
   ],
   "source": [
    "jumper_raw = open('./data/jumper.txt', 'r')\n",
    "\n",
    "vectorizer = TfidfVectorizer(max_features=2000, min_df=1, stop_words='english')\n",
    "X = vectorizer.fit_transform(jumper_raw)\n",
    "idx_to_word = np.array(vectorizer.get_feature_names())\n",
    "\n",
    "nmf = NMF(n_components=20, solver=\"mu\")\n",
    "W = nmf.fit_transform(X)\n",
    "H = nmf.components_\n",
    "\n",
    "for i, topic in enumerate(H):\n",
    "    print(\"Topic {}: {}\".format(i + 1, \",\".join([str(x) for x in idx_to_word [topic.argsort()[-10:]]])))"
   ]
  },
  {
   "cell_type": "code",
   "execution_count": null,
   "id": "israeli-equality",
   "metadata": {},
   "outputs": [],
   "source": []
  }
 ],
 "metadata": {
  "kernelspec": {
   "display_name": "Python 3",
   "language": "python",
   "name": "python3"
  },
  "language_info": {
   "codemirror_mode": {
    "name": "ipython",
    "version": 3
   },
   "file_extension": ".py",
   "mimetype": "text/x-python",
   "name": "python",
   "nbconvert_exporter": "python",
   "pygments_lexer": "ipython3",
   "version": "3.8.5"
  }
 },
 "nbformat": 4,
 "nbformat_minor": 5
}
