{
 "cells": [
  {
   "cell_type": "markdown",
   "metadata": {},
   "source": [
    "# Data 690 Week 10 Homework\n",
    "Jessica Conroy\n",
    "4/13/21\n",
    "\n",
    "Use the imdb-reviews_2.csv file.\n",
    "\n",
    "    • Load the data\n",
    "    • Count the number of positive and negative sentiment\n",
    "    • Clean the text ‘review’ and create a column called ‘review_processed’\n",
    "    • Replace short words as\n",
    "    df['review_processed'] = df['review_processed'].apply(lambda x:\n",
    "    ' '.join([w for w in x.split() if len(w)>2]))\n",
    "    • Make entire text lowercase\n",
    "    • Remove stopwords\n",
    "    • Make custom list of words to be removed including ‘movie’, ‘film’, ‘one’, ‘make’,\n",
    "    and ‘even’\n",
    "    • Add to the list of words\n",
    "    • Lemmatize the text\n",
    "    • Convert NLTK tags into ‘wordnet’ tags\n",
    "    • Find the part of speech tag\n",
    "    • Lemmatize sentences using POS. Tokenize the sentence and find POS tag for\n",
    "    each token\n",
    "    • Define ‘wordnet_tagged.’ If there is no available tag, append the token as is.\n",
    "    Else, use the tag to lemmatize the token\n",
    "    • Plot the most frequent words from positive reviews using bar chart. Subset\n",
    "    positive review dataset, extract words into list and count frequency. Subset top\n",
    "    30 words by frequency in a horizontal bar chart\n",
    "    • Create a word cloud\n",
    "    • Import CountVectorizer and create a sparse matrix of 2,500 tokens. Split the data\n",
    "    set into train and test (20%) set\n",
    "    • Use the GaussianNB to train the model on the training data. Provide the\n",
    "    accuracy of the model\n",
    "    • Test the model on the test set\n",
    "    • Create the confusion matrix and classification report\n",
    "    • Use Seaborn heatmap to show TP, FP, TN, FN values\n",
    "    • Use a logistic regression model and check the accuracy of the model for C=0.01,\n",
    "    0.05, 0.5, 0.5, and 1.\n",
    "    • Provide the ROC curve. What is the area under the curve?"
   ]
  },
  {
   "cell_type": "code",
   "execution_count": 32,
   "metadata": {},
   "outputs": [
    {
     "name": "stderr",
     "output_type": "stream",
     "text": [
      "[nltk_data] Downloading package stopwords to\n",
      "[nltk_data]     C:\\Users\\15856\\AppData\\Roaming\\nltk_data...\n",
      "[nltk_data]   Package stopwords is already up-to-date!\n"
     ]
    }
   ],
   "source": [
    "import pandas as pd\n",
    "import numpy as np\n",
    "import nltk\n",
    "nltk.download('stopwords')\n",
    "from nltk import pos_tag\n",
    "from nltk.corpus import stopwords \n",
    "from nltk.corpus import wordnet\n",
    "from nltk.stem.wordnet import WordNetLemmatizer\n",
    "from sklearn.feature_extraction.text import CountVectorizer\n",
    "from nltk.tokenize import sent_tokenize, word_tokenize\n",
    "import string\n"
   ]
  },
  {
   "cell_type": "code",
   "execution_count": 2,
   "metadata": {},
   "outputs": [],
   "source": [
    "# Load the data\n",
    "df = pd.read_csv('./imdb-reviews_2.csv')"
   ]
  },
  {
   "cell_type": "code",
   "execution_count": 3,
   "metadata": {},
   "outputs": [
    {
     "data": {
      "text/html": [
       "<div>\n",
       "<style scoped>\n",
       "    .dataframe tbody tr th:only-of-type {\n",
       "        vertical-align: middle;\n",
       "    }\n",
       "\n",
       "    .dataframe tbody tr th {\n",
       "        vertical-align: top;\n",
       "    }\n",
       "\n",
       "    .dataframe thead th {\n",
       "        text-align: right;\n",
       "    }\n",
       "</style>\n",
       "<table border=\"1\" class=\"dataframe\">\n",
       "  <thead>\n",
       "    <tr style=\"text-align: right;\">\n",
       "      <th></th>\n",
       "      <th>review</th>\n",
       "      <th>label</th>\n",
       "    </tr>\n",
       "  </thead>\n",
       "  <tbody>\n",
       "    <tr>\n",
       "      <th>0</th>\n",
       "      <td>first think another Disney movie, might good, ...</td>\n",
       "      <td>1</td>\n",
       "    </tr>\n",
       "    <tr>\n",
       "      <th>1</th>\n",
       "      <td>Put aside Dr. House repeat missed, Desperate H...</td>\n",
       "      <td>0</td>\n",
       "    </tr>\n",
       "    <tr>\n",
       "      <th>2</th>\n",
       "      <td>big fan Stephen King's work, film made even gr...</td>\n",
       "      <td>1</td>\n",
       "    </tr>\n",
       "    <tr>\n",
       "      <th>3</th>\n",
       "      <td>watched horrid thing TV. Needless say one movi...</td>\n",
       "      <td>0</td>\n",
       "    </tr>\n",
       "    <tr>\n",
       "      <th>4</th>\n",
       "      <td>truly enjoyed film. acting terrific plot. Jeff...</td>\n",
       "      <td>1</td>\n",
       "    </tr>\n",
       "  </tbody>\n",
       "</table>\n",
       "</div>"
      ],
      "text/plain": [
       "                                              review  label\n",
       "0  first think another Disney movie, might good, ...      1\n",
       "1  Put aside Dr. House repeat missed, Desperate H...      0\n",
       "2  big fan Stephen King's work, film made even gr...      1\n",
       "3  watched horrid thing TV. Needless say one movi...      0\n",
       "4  truly enjoyed film. acting terrific plot. Jeff...      1"
      ]
     },
     "execution_count": 3,
     "metadata": {},
     "output_type": "execute_result"
    }
   ],
   "source": [
    "df.head()"
   ]
  },
  {
   "cell_type": "code",
   "execution_count": 4,
   "metadata": {},
   "outputs": [
    {
     "data": {
      "text/plain": [
       "1    2528\n",
       "0    2472\n",
       "Name: label, dtype: int64"
      ]
     },
     "execution_count": 4,
     "metadata": {},
     "output_type": "execute_result"
    }
   ],
   "source": [
    "# Count the number of positive and negative sentiment\n",
    "df['label'].value_counts()"
   ]
  },
  {
   "cell_type": "code",
   "execution_count": 5,
   "metadata": {},
   "outputs": [],
   "source": [
    "# Clean the text ‘review’ and create a column called ‘review_processed’\n",
    "# Make entire text lowercase\n",
    "# Remove stopwords\n",
    "# Make custom list of words to be removed including ‘movie’, ‘film’, ‘one’, ‘make’, and ‘even’\n",
    "# Add to the list of words\n",
    "# Lemmatize the text\n",
    "stop = set(stopwords.words('english'))\n",
    "stop.update(['movie', 'film', 'one', 'make', 'even'])\n",
    "clean_text = []\n",
    "for i in df['review']:\n",
    "    temp = []\n",
    "    # tokenize the review and convert to lower\n",
    "    for j in word_tokenize(i):\n",
    "        lemma = WordNetLemmatizer()\n",
    "        x =lemma.lemmatize(j)\n",
    "        temp.append(x.lower())\n",
    "    # Remove punct and stopwords\n",
    "    rem_punct = str.maketrans('', '', string.punctuation)\n",
    "    new_text = [token.translate(rem_punct) for token in temp]\n",
    "    words = [word for word in new_text if word.isalpha()]\n",
    "    words = [w for w in words if not w in stop]\n",
    "    review =' '.join(words)\n",
    "    clean_text.append(review)\n",
    "df['review_processed'] = clean_text"
   ]
  },
  {
   "cell_type": "code",
   "execution_count": 6,
   "metadata": {},
   "outputs": [
    {
     "data": {
      "text/html": [
       "<div>\n",
       "<style scoped>\n",
       "    .dataframe tbody tr th:only-of-type {\n",
       "        vertical-align: middle;\n",
       "    }\n",
       "\n",
       "    .dataframe tbody tr th {\n",
       "        vertical-align: top;\n",
       "    }\n",
       "\n",
       "    .dataframe thead th {\n",
       "        text-align: right;\n",
       "    }\n",
       "</style>\n",
       "<table border=\"1\" class=\"dataframe\">\n",
       "  <thead>\n",
       "    <tr style=\"text-align: right;\">\n",
       "      <th></th>\n",
       "      <th>review</th>\n",
       "      <th>label</th>\n",
       "      <th>review_processed</th>\n",
       "    </tr>\n",
       "  </thead>\n",
       "  <tbody>\n",
       "    <tr>\n",
       "      <th>0</th>\n",
       "      <td>first think another Disney movie, might good, ...</td>\n",
       "      <td>1</td>\n",
       "      <td>first think another disney might good kid watc...</td>\n",
       "    </tr>\n",
       "    <tr>\n",
       "      <th>1</th>\n",
       "      <td>Put aside Dr. House repeat missed, Desperate H...</td>\n",
       "      <td>0</td>\n",
       "      <td>put aside dr house repeat missed desperate hou...</td>\n",
       "    </tr>\n",
       "    <tr>\n",
       "      <th>2</th>\n",
       "      <td>big fan Stephen King's work, film made even gr...</td>\n",
       "      <td>1</td>\n",
       "      <td>big fan stephen king work made greater fan kin...</td>\n",
       "    </tr>\n",
       "    <tr>\n",
       "      <th>3</th>\n",
       "      <td>watched horrid thing TV. Needless say one movi...</td>\n",
       "      <td>0</td>\n",
       "      <td>watched horrid thing tv needless say watch see...</td>\n",
       "    </tr>\n",
       "    <tr>\n",
       "      <th>4</th>\n",
       "      <td>truly enjoyed film. acting terrific plot. Jeff...</td>\n",
       "      <td>1</td>\n",
       "      <td>truly enjoyed acting terrific plot jeff combs ...</td>\n",
       "    </tr>\n",
       "  </tbody>\n",
       "</table>\n",
       "</div>"
      ],
      "text/plain": [
       "                                              review  label  \\\n",
       "0  first think another Disney movie, might good, ...      1   \n",
       "1  Put aside Dr. House repeat missed, Desperate H...      0   \n",
       "2  big fan Stephen King's work, film made even gr...      1   \n",
       "3  watched horrid thing TV. Needless say one movi...      0   \n",
       "4  truly enjoyed film. acting terrific plot. Jeff...      1   \n",
       "\n",
       "                                    review_processed  \n",
       "0  first think another disney might good kid watc...  \n",
       "1  put aside dr house repeat missed desperate hou...  \n",
       "2  big fan stephen king work made greater fan kin...  \n",
       "3  watched horrid thing tv needless say watch see...  \n",
       "4  truly enjoyed acting terrific plot jeff combs ...  "
      ]
     },
     "execution_count": 6,
     "metadata": {},
     "output_type": "execute_result"
    }
   ],
   "source": [
    "df.head()"
   ]
  },
  {
   "cell_type": "code",
   "execution_count": 7,
   "metadata": {},
   "outputs": [],
   "source": [
    "#Replace short words as\n",
    "df['review_processed'] = df['review_processed'].apply(lambda x:' '.join([w for w in x.split() if len(w)>2]))"
   ]
  },
  {
   "cell_type": "code",
   "execution_count": 8,
   "metadata": {},
   "outputs": [
    {
     "data": {
      "text/html": [
       "<div>\n",
       "<style scoped>\n",
       "    .dataframe tbody tr th:only-of-type {\n",
       "        vertical-align: middle;\n",
       "    }\n",
       "\n",
       "    .dataframe tbody tr th {\n",
       "        vertical-align: top;\n",
       "    }\n",
       "\n",
       "    .dataframe thead th {\n",
       "        text-align: right;\n",
       "    }\n",
       "</style>\n",
       "<table border=\"1\" class=\"dataframe\">\n",
       "  <thead>\n",
       "    <tr style=\"text-align: right;\">\n",
       "      <th></th>\n",
       "      <th>review</th>\n",
       "      <th>label</th>\n",
       "      <th>review_processed</th>\n",
       "    </tr>\n",
       "  </thead>\n",
       "  <tbody>\n",
       "    <tr>\n",
       "      <th>0</th>\n",
       "      <td>first think another Disney movie, might good, ...</td>\n",
       "      <td>1</td>\n",
       "      <td>first think another disney might good kid watc...</td>\n",
       "    </tr>\n",
       "    <tr>\n",
       "      <th>1</th>\n",
       "      <td>Put aside Dr. House repeat missed, Desperate H...</td>\n",
       "      <td>0</td>\n",
       "      <td>put aside house repeat missed desperate housew...</td>\n",
       "    </tr>\n",
       "    <tr>\n",
       "      <th>2</th>\n",
       "      <td>big fan Stephen King's work, film made even gr...</td>\n",
       "      <td>1</td>\n",
       "      <td>big fan stephen king work made greater fan kin...</td>\n",
       "    </tr>\n",
       "    <tr>\n",
       "      <th>3</th>\n",
       "      <td>watched horrid thing TV. Needless say one movi...</td>\n",
       "      <td>0</td>\n",
       "      <td>watched horrid thing needless say watch see mu...</td>\n",
       "    </tr>\n",
       "    <tr>\n",
       "      <th>4</th>\n",
       "      <td>truly enjoyed film. acting terrific plot. Jeff...</td>\n",
       "      <td>1</td>\n",
       "      <td>truly enjoyed acting terrific plot jeff combs ...</td>\n",
       "    </tr>\n",
       "  </tbody>\n",
       "</table>\n",
       "</div>"
      ],
      "text/plain": [
       "                                              review  label  \\\n",
       "0  first think another Disney movie, might good, ...      1   \n",
       "1  Put aside Dr. House repeat missed, Desperate H...      0   \n",
       "2  big fan Stephen King's work, film made even gr...      1   \n",
       "3  watched horrid thing TV. Needless say one movi...      0   \n",
       "4  truly enjoyed film. acting terrific plot. Jeff...      1   \n",
       "\n",
       "                                    review_processed  \n",
       "0  first think another disney might good kid watc...  \n",
       "1  put aside house repeat missed desperate housew...  \n",
       "2  big fan stephen king work made greater fan kin...  \n",
       "3  watched horrid thing needless say watch see mu...  \n",
       "4  truly enjoyed acting terrific plot jeff combs ...  "
      ]
     },
     "execution_count": 8,
     "metadata": {},
     "output_type": "execute_result"
    }
   ],
   "source": [
    "df.head()"
   ]
  },
  {
   "cell_type": "code",
   "execution_count": 9,
   "metadata": {},
   "outputs": [
    {
     "name": "stderr",
     "output_type": "stream",
     "text": [
      "IOPub data rate exceeded.\n",
      "The notebook server will temporarily stop sending output\n",
      "to the client in order to avoid crashing it.\n",
      "To change this limit, set the config variable\n",
      "`--NotebookApp.iopub_data_rate_limit`.\n",
      "\n",
      "Current values:\n",
      "NotebookApp.iopub_data_rate_limit=1000000.0 (bytes/sec)\n",
      "NotebookApp.rate_limit_window=3.0 (secs)\n",
      "\n"
     ]
    }
   ],
   "source": [
    "#Source: https://stackoverflow.com/questions/15586721/wordnet-lemmatization-and-pos-tagging-in-python\n",
    "#     • Convert NLTK tags into ‘wordnet’ tags\n",
    "#     • Find the part of speech tag\n",
    "#     • Lemmatize sentences using POS. Tokenize the sentence and find POS tag for\n",
    "#     each token\n",
    "#     • Define ‘wordnet_tagged.’ If there is no available tag, append the token as is.\n",
    "#     Else, use the tag to lemmatize the token\n",
    "tag_map = dict({'N': wordnet.NOUN})\n",
    "tag_map['J'] = wordnet.ADJ\n",
    "tag_map['V'] = wordnet.VERB\n",
    "tag_map['R'] = wordnet.ADV\n",
    "\n",
    "wordnet_tagged = []\n",
    "for i in df['review_processed']:\n",
    "    tokens = word_tokenize(i)\n",
    "    lemma = WordNetLemmatizer()\n",
    "    review_tagged =[]\n",
    "    for token, tag in pos_tag(tokens):\n",
    "        try:\n",
    "            lemmatized = lemma.lemmatize(token, tag_map[tag[0]])\n",
    "            #print(token, \"=>\", lemmatized)\n",
    "            review_tagged.append(lemmatized)\n",
    "        except:\n",
    "            lemmatized = lemma.lemmatize(token)\n",
    "            review_tagged.append(lemmatized)\n",
    "    wordnet_tagged.append(review_tagged)\n",
    "df['wordnet_tagged'] = wordnet_tagged\n",
    "print(wordnet_tagged)"
   ]
  },
  {
   "cell_type": "code",
   "execution_count": 10,
   "metadata": {},
   "outputs": [
    {
     "data": {
      "text/html": [
       "<div>\n",
       "<style scoped>\n",
       "    .dataframe tbody tr th:only-of-type {\n",
       "        vertical-align: middle;\n",
       "    }\n",
       "\n",
       "    .dataframe tbody tr th {\n",
       "        vertical-align: top;\n",
       "    }\n",
       "\n",
       "    .dataframe thead th {\n",
       "        text-align: right;\n",
       "    }\n",
       "</style>\n",
       "<table border=\"1\" class=\"dataframe\">\n",
       "  <thead>\n",
       "    <tr style=\"text-align: right;\">\n",
       "      <th></th>\n",
       "      <th>0</th>\n",
       "      <th>1</th>\n",
       "      <th>2</th>\n",
       "      <th>3</th>\n",
       "      <th>4</th>\n",
       "    </tr>\n",
       "  </thead>\n",
       "  <tbody>\n",
       "    <tr>\n",
       "      <th>review</th>\n",
       "      <td>first think another Disney movie, might good, ...</td>\n",
       "      <td>Put aside Dr. House repeat missed, Desperate H...</td>\n",
       "      <td>big fan Stephen King's work, film made even gr...</td>\n",
       "      <td>watched horrid thing TV. Needless say one movi...</td>\n",
       "      <td>truly enjoyed film. acting terrific plot. Jeff...</td>\n",
       "    </tr>\n",
       "    <tr>\n",
       "      <th>label</th>\n",
       "      <td>1</td>\n",
       "      <td>0</td>\n",
       "      <td>1</td>\n",
       "      <td>0</td>\n",
       "      <td>1</td>\n",
       "    </tr>\n",
       "    <tr>\n",
       "      <th>review_processed</th>\n",
       "      <td>first think another disney might good kid watc...</td>\n",
       "      <td>put aside house repeat missed desperate housew...</td>\n",
       "      <td>big fan stephen king work made greater fan kin...</td>\n",
       "      <td>watched horrid thing needless say watch see mu...</td>\n",
       "      <td>truly enjoyed acting terrific plot jeff combs ...</td>\n",
       "    </tr>\n",
       "    <tr>\n",
       "      <th>wordnet_tagged</th>\n",
       "      <td>[first, think, another, disney, might, good, k...</td>\n",
       "      <td>[put, aside, house, repeat, miss, desperate, h...</td>\n",
       "      <td>[big, fan, stephen, king, work, make, great, f...</td>\n",
       "      <td>[watch, horrid, thing, needless, say, watch, s...</td>\n",
       "      <td>[truly, enjoyed, act, terrific, plot, jeff, co...</td>\n",
       "    </tr>\n",
       "  </tbody>\n",
       "</table>\n",
       "</div>"
      ],
      "text/plain": [
       "                                                                  0  \\\n",
       "review            first think another Disney movie, might good, ...   \n",
       "label                                                             1   \n",
       "review_processed  first think another disney might good kid watc...   \n",
       "wordnet_tagged    [first, think, another, disney, might, good, k...   \n",
       "\n",
       "                                                                  1  \\\n",
       "review            Put aside Dr. House repeat missed, Desperate H...   \n",
       "label                                                             0   \n",
       "review_processed  put aside house repeat missed desperate housew...   \n",
       "wordnet_tagged    [put, aside, house, repeat, miss, desperate, h...   \n",
       "\n",
       "                                                                  2  \\\n",
       "review            big fan Stephen King's work, film made even gr...   \n",
       "label                                                             1   \n",
       "review_processed  big fan stephen king work made greater fan kin...   \n",
       "wordnet_tagged    [big, fan, stephen, king, work, make, great, f...   \n",
       "\n",
       "                                                                  3  \\\n",
       "review            watched horrid thing TV. Needless say one movi...   \n",
       "label                                                             0   \n",
       "review_processed  watched horrid thing needless say watch see mu...   \n",
       "wordnet_tagged    [watch, horrid, thing, needless, say, watch, s...   \n",
       "\n",
       "                                                                  4  \n",
       "review            truly enjoyed film. acting terrific plot. Jeff...  \n",
       "label                                                             1  \n",
       "review_processed  truly enjoyed acting terrific plot jeff combs ...  \n",
       "wordnet_tagged    [truly, enjoyed, act, terrific, plot, jeff, co...  "
      ]
     },
     "execution_count": 10,
     "metadata": {},
     "output_type": "execute_result"
    }
   ],
   "source": [
    "df.head().T"
   ]
  },
  {
   "cell_type": "code",
   "execution_count": 17,
   "metadata": {},
   "outputs": [
    {
     "name": "stdout",
     "output_type": "stream",
     "text": [
      "[('like', 4452), ('see', 4198), ('get', 3655), ('good', 3324), ('time', 3102), ('well', 2826), ('character', 2758), ('watch', 2709), ('story', 2649), ('would', 2622), ('bad', 2462), ('think', 2384), ('really', 2336), ('show', 2230), ('make', 2184), ('scene', 2085), ('look', 2052), ('great', 2015), ('say', 1959), ('much', 1953), ('end', 1888), ('could', 1879), ('know', 1860), ('people', 1856), ('also', 1851), ('first', 1799), ('give', 1787), ('take', 1777), ('play', 1766), ('come', 1745)]\n"
     ]
    },
    {
     "data": {
      "image/png": "[encoded data removed]",
      "text/plain": [
       "<Figure size 432x288 with 1 Axes>"
      ]
     },
     "metadata": {
      "needs_background": "light"
     },
     "output_type": "display_data"
    }
   ],
   "source": [
    "# Plot the most frequent words from positive reviews using bar chart. Subset\n",
    "# positive review dataset, extract words into list and count frequency. Subset top\n",
    "# 30 words by frequency in a horizontal bar chart\n",
    "\n",
    "#get text of pos reviews\n",
    "pos_df = df[df['label'] == 1]\n",
    "pos_text = []\n",
    "for i in df['wordnet_tagged']:\n",
    "    pos_text= pos_text + i\n",
    "#     print(i)\n",
    "from nltk.probability import FreqDist\n",
    "fdist = FreqDist(pos_text)\n",
    "\n",
    "# Ten most common words\n",
    "print(fdist.most_common(30))\n",
    "\n",
    "# Frequency Distribution Plots\n",
    "import matplotlib.pyplot as plt\n",
    "fdist.plot(30,cumulative=False)\n",
    "plt.show()"
   ]
  },
  {
   "cell_type": "code",
   "execution_count": 19,
   "metadata": {},
   "outputs": [
    {
     "data": {
      "image/png": "[encoded data removed]",
      "text/plain": [
       "<Figure size 432x288 with 1 Axes>"
      ]
     },
     "metadata": {
      "needs_background": "light"
     },
     "output_type": "display_data"
    }
   ],
   "source": [
    "#Create a word cloud\n",
    "\n",
    "from wordcloud import WordCloud\n",
    "%matplotlib inline\n",
    "import matplotlib.pyplot as plt\n",
    "# lower max_font_size/\n",
    "wordcloud = WordCloud(max_font_size=40).generate(\" \".join(pos_text))\n",
    "plt.figure()\n",
    "plt.imshow(wordcloud, interpolation=\"bilinear\")\n",
    "plt.axis(\"off\")\n",
    "plt.show()"
   ]
  },
  {
   "cell_type": "code",
   "execution_count": 22,
   "metadata": {},
   "outputs": [],
   "source": [
    "# Import CountVectorizer and create a sparse matrix of 2,500 tokens. Split the data set into train and test (20%) set\n",
    "from sklearn.model_selection import train_test_split\n",
    "from sklearn.feature_extraction.text import CountVectorizer\n",
    "n_tokens = 2500\n",
    "\n",
    "cleaned_text = []\n",
    "for i in df['wordnet_tagged']:\n",
    "    cleaned_text.append(\" \".join(i))\n",
    "\n",
    "vectorizer = CountVectorizer(max_features=n_tokens, stop_words='english')\n",
    "vectorizer.fit(cleaned_text)\n",
    "features = vectorizer.fit_transform(cleaned_text)\n",
    "featuresA = features.toarray() \n",
    "\n",
    "X_train, X_test, y_train, y_test  = train_test_split(\n",
    "        featuresA, \n",
    "        df['label'],\n",
    "        train_size=0.80, \n",
    "        random_state=432021)"
   ]
  },
  {
   "cell_type": "code",
   "execution_count": 25,
   "metadata": {},
   "outputs": [
    {
     "name": "stdout",
     "output_type": "stream",
     "text": [
      "Accuracy Score: \n",
      "0.682\n"
     ]
    }
   ],
   "source": [
    "#Use the GaussianNB to train the model on the training data. Provide the accuracy of the model\n",
    "from sklearn.naive_bayes import GaussianNB\n",
    "from sklearn.metrics import confusion_matrix, classification_report, accuracy_score\n",
    "from sklearn.metrics import plot_confusion_matrix\n",
    "\n",
    "model = GaussianNB()\n",
    "model.fit(X_train, y_train)\n",
    "\n",
    "# Test the model on the test set\n",
    "prediction = model.predict(X_test)\n",
    "print('Accuracy Score: ')\n",
    "print(accuracy_score(y_test, prediction))"
   ]
  },
  {
   "cell_type": "code",
   "execution_count": 29,
   "metadata": {},
   "outputs": [
    {
     "name": "stdout",
     "output_type": "stream",
     "text": [
      "Classification Report: \n",
      "              precision    recall  f1-score   support\n",
      "\n",
      "           0       0.66      0.82      0.73       520\n",
      "           1       0.73      0.54      0.62       480\n",
      "\n",
      "    accuracy                           0.68      1000\n",
      "   macro avg       0.69      0.68      0.67      1000\n",
      "weighted avg       0.69      0.68      0.67      1000\n",
      "\n",
      "Confusion Matrix: \n"
     ]
    },
    {
     "data": {
      "image/png": "[encoded data removed]",
      "text/plain": [
       "<Figure size 432x288 with 2 Axes>"
      ]
     },
     "metadata": {
      "needs_background": "light"
     },
     "output_type": "display_data"
    }
   ],
   "source": [
    "# Create the confusion matrix and classification report\n",
    "\n",
    "print('Classification Report: ')\n",
    "print(classification_report(y_test, prediction))\n",
    "\n",
    "print('Confusion Matrix: ')\n",
    "disp = plot_confusion_matrix(model, X_test, y_test)\n",
    "disp.ax_.set_title('Confusion Matrix')\n",
    "plt.show()"
   ]
  },
  {
   "cell_type": "code",
   "execution_count": 37,
   "metadata": {},
   "outputs": [
    {
     "data": {
      "text/plain": [
       "Text(0.5, 15.0, 'Predicted label')"
      ]
     },
     "execution_count": 37,
     "metadata": {},
     "output_type": "execute_result"
    },
    {
     "data": {
      "image/png": "[encoded data removed]",
      "text/plain": [
       "<Figure size 432x288 with 2 Axes>"
      ]
     },
     "metadata": {
      "needs_background": "light"
     },
     "output_type": "display_data"
    }
   ],
   "source": [
    "#Use Seaborn heatmap to show TP, FP, TN, FN values\n",
    "import seaborn as sns\n",
    "\n",
    "fontsize = 12\n",
    "heatmap = sns.heatmap(confusion_matrix(y_test, prediction), annot=True)\n",
    "heatmap.yaxis.set_ticklabels(heatmap.yaxis.get_ticklabels(), rotation=0, ha='right', fontsize=fontsize)\n",
    "heatmap.xaxis.set_ticklabels(heatmap.xaxis.get_ticklabels(), rotation=45, ha='right', fontsize=fontsize)\n",
    "plt.ylabel('True label')\n",
    "plt.xlabel('Predicted label')"
   ]
  },
  {
   "cell_type": "code",
   "execution_count": 47,
   "metadata": {},
   "outputs": [
    {
     "name": "stdout",
     "output_type": "stream",
     "text": [
      "Fitting 5 folds for each of 5 candidates, totalling 25 fits\n",
      "[CV] C=0.01 ..........................................................\n"
     ]
    },
    {
     "name": "stderr",
     "output_type": "stream",
     "text": [
      "[Parallel(n_jobs=1)]: Using backend SequentialBackend with 1 concurrent workers.\n"
     ]
    },
    {
     "name": "stdout",
     "output_type": "stream",
     "text": [
      "[CV] .............................. C=0.01, score=0.829, total=   0.2s\n",
      "[CV] C=0.01 ..........................................................\n",
      "[CV] .............................. C=0.01, score=0.850, total=   0.2s"
     ]
    },
    {
     "name": "stderr",
     "output_type": "stream",
     "text": [
      "[Parallel(n_jobs=1)]: Done   1 out of   1 | elapsed:    0.1s remaining:    0.0s\n"
     ]
    },
    {
     "name": "stdout",
     "output_type": "stream",
     "text": [
      "\n",
      "[CV] C=0.01 ..........................................................\n",
      "[CV] .............................. C=0.01, score=0.829, total=   0.2s"
     ]
    },
    {
     "name": "stderr",
     "output_type": "stream",
     "text": [
      "[Parallel(n_jobs=1)]: Done   2 out of   2 | elapsed:    0.3s remaining:    0.0s\n"
     ]
    },
    {
     "name": "stdout",
     "output_type": "stream",
     "text": [
      "\n",
      "[CV] C=0.01 ..........................................................\n",
      "[CV] .............................. C=0.01, score=0.815, total=   0.2s\n"
     ]
    },
    {
     "name": "stderr",
     "output_type": "stream",
     "text": [
      "[Parallel(n_jobs=1)]: Done   3 out of   3 | elapsed:    0.5s remaining:    0.0s\n"
     ]
    },
    {
     "name": "stdout",
     "output_type": "stream",
     "text": [
      "[CV] C=0.01 ..........................................................\n"
     ]
    },
    {
     "name": "stderr",
     "output_type": "stream",
     "text": [
      "[Parallel(n_jobs=1)]: Done   4 out of   4 | elapsed:    0.7s remaining:    0.0s\n"
     ]
    },
    {
     "name": "stdout",
     "output_type": "stream",
     "text": [
      "[CV] .............................. C=0.01, score=0.829, total=   0.2s\n",
      "[CV] C=0.05 ..........................................................\n"
     ]
    },
    {
     "name": "stderr",
     "output_type": "stream",
     "text": [
      "[Parallel(n_jobs=1)]: Done   5 out of   5 | elapsed:    0.9s remaining:    0.0s\n"
     ]
    },
    {
     "name": "stdout",
     "output_type": "stream",
     "text": [
      "[CV] .............................. C=0.05, score=0.835, total=   0.3s\n",
      "[CV] C=0.05 ..........................................................\n"
     ]
    },
    {
     "name": "stderr",
     "output_type": "stream",
     "text": [
      "[Parallel(n_jobs=1)]: Done   6 out of   6 | elapsed:    1.2s remaining:    0.0s\n"
     ]
    },
    {
     "name": "stdout",
     "output_type": "stream",
     "text": [
      "[CV] .............................. C=0.05, score=0.858, total=   0.3s\n",
      "[CV] C=0.05 ..........................................................\n"
     ]
    },
    {
     "name": "stderr",
     "output_type": "stream",
     "text": [
      "[Parallel(n_jobs=1)]: Done   7 out of   7 | elapsed:    1.5s remaining:    0.0s\n"
     ]
    },
    {
     "name": "stdout",
     "output_type": "stream",
     "text": [
      "[CV] .............................. C=0.05, score=0.830, total=   0.3s\n",
      "[CV] C=0.05 ..........................................................\n"
     ]
    },
    {
     "name": "stderr",
     "output_type": "stream",
     "text": [
      "[Parallel(n_jobs=1)]: Done   8 out of   8 | elapsed:    1.8s remaining:    0.0s\n"
     ]
    },
    {
     "name": "stdout",
     "output_type": "stream",
     "text": [
      "[CV] .............................. C=0.05, score=0.828, total=   0.3s\n",
      "[CV] C=0.05 ..........................................................\n"
     ]
    },
    {
     "name": "stderr",
     "output_type": "stream",
     "text": [
      "[Parallel(n_jobs=1)]: Done   9 out of   9 | elapsed:    2.1s remaining:    0.0s\n"
     ]
    },
    {
     "name": "stdout",
     "output_type": "stream",
     "text": [
      "[CV] .............................. C=0.05, score=0.834, total=   0.3s\n",
      "[CV] C=0.5 ...........................................................\n",
      "[CV] ............................... C=0.5, score=0.820, total=   0.5s\n",
      "[CV] C=0.5 ...........................................................\n",
      "[CV] ............................... C=0.5, score=0.844, total=   0.6s\n",
      "[CV] C=0.5 ...........................................................\n",
      "[CV] ............................... C=0.5, score=0.811, total=   0.5s\n",
      "[CV] C=0.5 ...........................................................\n",
      "[CV] ............................... C=0.5, score=0.818, total=   0.5s\n",
      "[CV] C=0.5 ...........................................................\n",
      "[CV] ............................... C=0.5, score=0.830, total=   0.5s\n",
      "[CV] C=0.5 ...........................................................\n",
      "[CV] ............................... C=0.5, score=0.820, total=   0.5s\n",
      "[CV] C=0.5 ...........................................................\n",
      "[CV] ............................... C=0.5, score=0.844, total=   0.5s\n",
      "[CV] C=0.5 ...........................................................\n",
      "[CV] ............................... C=0.5, score=0.811, total=   0.5s\n",
      "[CV] C=0.5 ...........................................................\n",
      "[CV] ............................... C=0.5, score=0.818, total=   0.5s\n",
      "[CV] C=0.5 ...........................................................\n",
      "[CV] ............................... C=0.5, score=0.830, total=   0.5s\n",
      "[CV] C=1 .............................................................\n",
      "[CV] ................................. C=1, score=0.815, total=   0.6s\n",
      "[CV] C=1 .............................................................\n",
      "[CV] ................................. C=1, score=0.841, total=   0.6s\n",
      "[CV] C=1 .............................................................\n",
      "[CV] ................................. C=1, score=0.809, total=   0.6s\n",
      "[CV] C=1 .............................................................\n",
      "[CV] ................................. C=1, score=0.805, total=   0.6s\n",
      "[CV] C=1 .............................................................\n",
      "[CV] ................................. C=1, score=0.825, total=   0.6s\n"
     ]
    },
    {
     "name": "stderr",
     "output_type": "stream",
     "text": [
      "[Parallel(n_jobs=1)]: Done  25 out of  25 | elapsed:   10.8s finished\n"
     ]
    },
    {
     "name": "stdout",
     "output_type": "stream",
     "text": [
      "LogisticRegression(C=0.05)\n"
     ]
    }
   ],
   "source": [
    "#Use a logistic regression model and check the accuracy of the model for C=0.01, 0.05, 0.5, 0.5, and 1.\n",
    "from sklearn.linear_model import LogisticRegression\n",
    "from sklearn.model_selection import GridSearchCV\n",
    "\n",
    "logreg = LogisticRegression()\n",
    "parameters = {'C':[0.01, 0.05, 0.5, 0.5, 1]}\n",
    "model = GridSearchCV(estimator = logreg,\n",
    "                        param_grid = parameters,\n",
    "                        scoring = 'accuracy', \n",
    "                        cv = 5, \n",
    "                        verbose = 10)\n",
    "model.fit(X_train, y_train)\n",
    "\n",
    "# Test the model on the test set\n",
    "print(model.best_estimator_)"
   ]
  },
  {
   "cell_type": "code",
   "execution_count": 48,
   "metadata": {},
   "outputs": [
    {
     "name": "stdout",
     "output_type": "stream",
     "text": [
      "0.821\n"
     ]
    }
   ],
   "source": [
    "print(model.score(X_test, y_test))"
   ]
  },
  {
   "cell_type": "code",
   "execution_count": 51,
   "metadata": {},
   "outputs": [
    {
     "name": "stdout",
     "output_type": "stream",
     "text": [
      "No Skill: ROC AUC=0.500\n",
      "Logistic: ROC AUC=0.900\n"
     ]
    }
   ],
   "source": [
    "# Provide the ROC curve. What is the area under the curve?\n",
    "#used: https://machinelearningmastery.com/roc-curves-and-precision-recall-curves-for-classification-in-python/ as a resource\n",
    "from sklearn.metrics import roc_curve\n",
    "from sklearn.metrics import roc_auc_score\n",
    "\n",
    "model = LogisticRegression(C=0.05)\n",
    "model.fit(X_train, y_train)\n",
    "ns_probs = [0 for _ in range(len(y_test))]\n",
    "lr_probs = model.predict_proba(X_test)\n",
    "lr_probs = lr_probs[:, 1]\n",
    "ns_auc = roc_auc_score(y_test, ns_probs)\n",
    "lr_auc = roc_auc_score(y_test, lr_probs)\n",
    "print('No Skill: ROC AUC=%.3f' % (ns_auc)) #area under the curve\n",
    "print('Logistic: ROC AUC=%.3f' % (lr_auc))"
   ]
  },
  {
   "cell_type": "code",
   "execution_count": 52,
   "metadata": {},
   "outputs": [],
   "source": [
    "ns_fpr, ns_tpr, _ = roc_curve(y_test, ns_probs)\n",
    "lr_fpr, lr_tpr, _ = roc_curve(y_test, lr_probs)"
   ]
  },
  {
   "cell_type": "code",
   "execution_count": 56,
   "metadata": {},
   "outputs": [
    {
     "data": {
      "image/png": "[encoded data removed]",
      "text/plain": [
       "<Figure size 432x288 with 1 Axes>"
      ]
     },
     "metadata": {
      "needs_background": "light"
     },
     "output_type": "display_data"
    }
   ],
   "source": [
    "plt.plot(ns_fpr, ns_tpr, linestyle='--', label='No Skill')\n",
    "plt.plot(lr_fpr, lr_tpr, marker='.', label='Logistic')\n",
    "# axis labels\n",
    "plt.xlabel('False Positive Rate')\n",
    "plt.ylabel('True Positive Rate')\n",
    "# show the legend\n",
    "plt.legend()\n",
    "# show the plot\n",
    "plt.show()"
   ]
  },
  {
   "cell_type": "code",
   "execution_count": null,
   "metadata": {},
   "outputs": [],
   "source": []
  }
 ],
 "metadata": {
  "kernelspec": {
   "display_name": "Python 3",
   "language": "python",
   "name": "python3"
  },
  "language_info": {
   "codemirror_mode": {
    "name": "ipython",
    "version": 3
   },
   "file_extension": ".py",
   "mimetype": "text/x-python",
   "name": "python",
   "nbconvert_exporter": "python",
   "pygments_lexer": "ipython3",
   "version": "3.8.5"
  }
 },
 "nbformat": 4,
 "nbformat_minor": 4
}
