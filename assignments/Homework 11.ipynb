{
 "cells": [
  {
   "cell_type": "code",
   "execution_count": 1,
   "id": "08645938",
   "metadata": {},
   "outputs": [
    {
     "name": "stderr",
     "output_type": "stream",
     "text": [
      "[nltk_data] Downloading package punkt to /home/jorgenv/nltk_data...\n",
      "[nltk_data]   Package punkt is already up-to-date!\n"
     ]
    }
   ],
   "source": [
    "import pandas as pd\n",
    "from sklearn.model_selection import train_test_split\n",
    "from sklearn.feature_extraction.text import CountVectorizer\n",
    "import nltk\n",
    "nltk.download('punkt')\n",
    "from sklearn.feature_extraction.text import TfidfVectorizer\n",
    "from sklearn.naive_bayes import MultinomialNB\n",
    "from sklearn.metrics import accuracy_score\n",
    "from sklearn.metrics import classification_report\n",
    "from sklearn.metrics import plot_confusion_matrix\n",
    "import matplotlib.pyplot as plt\n",
    "from sklearn.linear_model import LogisticRegression\n",
    "from sklearn.model_selection import GridSearchCV\n",
    "import numpy as np"
   ]
  },
  {
   "cell_type": "markdown",
   "id": "dbbd3614",
   "metadata": {},
   "source": [
    "* Load the data\n",
    "* Change the txt into a csv file\n",
    "* Remove the ‘Unnamed’ column\n",
    "* Print the first 5 rows"
   ]
  },
  {
   "cell_type": "code",
   "execution_count": 2,
   "id": "9602a9fe",
   "metadata": {},
   "outputs": [
    {
     "data": {
      "text/html": [
       "<div>\n",
       "<style scoped>\n",
       "    .dataframe tbody tr th:only-of-type {\n",
       "        vertical-align: middle;\n",
       "    }\n",
       "\n",
       "    .dataframe tbody tr th {\n",
       "        vertical-align: top;\n",
       "    }\n",
       "\n",
       "    .dataframe thead th {\n",
       "        text-align: right;\n",
       "    }\n",
       "</style>\n",
       "<table border=\"1\" class=\"dataframe\">\n",
       "  <thead>\n",
       "    <tr style=\"text-align: right;\">\n",
       "      <th></th>\n",
       "      <th>Summary</th>\n",
       "      <th>Sentiment</th>\n",
       "    </tr>\n",
       "  </thead>\n",
       "  <tbody>\n",
       "    <tr>\n",
       "      <th>0</th>\n",
       "      <td>rock destined st century new conan going make ...</td>\n",
       "      <td>1</td>\n",
       "    </tr>\n",
       "    <tr>\n",
       "      <th>1</th>\n",
       "      <td>gorgeously elaborate continuation lord ring tr...</td>\n",
       "      <td>1</td>\n",
       "    </tr>\n",
       "    <tr>\n",
       "      <th>2</th>\n",
       "      <td>effective tepid biopic</td>\n",
       "      <td>1</td>\n",
       "    </tr>\n",
       "    <tr>\n",
       "      <th>3</th>\n",
       "      <td>sometimes like go movie fun wasabi good place ...</td>\n",
       "      <td>1</td>\n",
       "    </tr>\n",
       "    <tr>\n",
       "      <th>4</th>\n",
       "      <td>emerges something rare issue movie honest keen...</td>\n",
       "      <td>1</td>\n",
       "    </tr>\n",
       "  </tbody>\n",
       "</table>\n",
       "</div>"
      ],
      "text/plain": [
       "                                             Summary  Sentiment\n",
       "0  rock destined st century new conan going make ...          1\n",
       "1  gorgeously elaborate continuation lord ring tr...          1\n",
       "2                             effective tepid biopic          1\n",
       "3  sometimes like go movie fun wasabi good place ...          1\n",
       "4  emerges something rare issue movie honest keen...          1"
      ]
     },
     "execution_count": 2,
     "metadata": {},
     "output_type": "execute_result"
    }
   ],
   "source": [
    "data_df = pd.read_csv('./data/movie_reviews.txt')\n",
    "data_df.head()"
   ]
  },
  {
   "cell_type": "markdown",
   "id": "5e414cff",
   "metadata": {},
   "source": [
    "I don't see a \"Unnamed\" column, so I'm just leaving it as is. And I'm not sure if by changing txt to csv you mean to just load as csv, but that's what I'm doing here."
   ]
  },
  {
   "cell_type": "markdown",
   "id": "53c188d1",
   "metadata": {},
   "source": [
    "* Set X as movie_data[‘Summary’] and y as movie_data[‘Sentiment’]\n",
    "* Split the dataset into ‘docs_train’, ‘docs_test’, y_train, y_test. Test size is 20%"
   ]
  },
  {
   "cell_type": "code",
   "execution_count": 3,
   "id": "435e8a75",
   "metadata": {},
   "outputs": [],
   "source": [
    "X = data_df['Summary']\n",
    "y = data_df['Sentiment']\n",
    "\n",
    "X_train, X_test, y_train, y_test = train_test_split(X, y, test_size=0.2, random_state=42)"
   ]
  },
  {
   "cell_type": "markdown",
   "id": "9c02cc77",
   "metadata": {},
   "source": [
    "* Initialize CountVectorizer:\n",
    "  * movieVzer = CountVectorizer(min_df=2, tokenizer=nltk.word_tokenize)\n",
    "  * Use all 25K words. Higher accuracy\n",
    "* Locate the word `screen` and `Steven Seagal` in the corpus\n",
    "* Determine the shape of `docs_train_counts`"
   ]
  },
  {
   "cell_type": "code",
   "execution_count": 4,
   "id": "bd09466c",
   "metadata": {},
   "outputs": [],
   "source": [
    "movieVzer = CountVectorizer(min_df=2, tokenizer=nltk.word_tokenize)\n",
    "\n",
    "X_train_cv = movieVzer.fit_transform(X_train)\n",
    "X_test_cv = movieVzer.transform(X_test)"
   ]
  },
  {
   "cell_type": "code",
   "execution_count": 5,
   "id": "4149f5a8",
   "metadata": {},
   "outputs": [
    {
     "data": {
      "text/plain": [
       "8        steer turn snappy screenplay curl edge clever ...\n",
       "62       disney always hit miss bringing beloved kid bo...\n",
       "76              screenplay ingeniously constructed memento\n",
       "96       normal screen process bromide would barely eno...\n",
       "127          run walk see barbed bracing comedy big screen\n",
       "                               ...                        \n",
       "10482    koepp screenplay nearly surprising clever enou...\n",
       "10522    writer dude think name uh michael zaidan suppo...\n",
       "10526    spectator indeed sit open mouthed screen screa...\n",
       "10635    film play thing nice n safe often play like mi...\n",
       "10655    nelson screenplay need serious working show di...\n",
       "Name: Summary, Length: 269, dtype: object"
      ]
     },
     "execution_count": 5,
     "metadata": {},
     "output_type": "execute_result"
    }
   ],
   "source": [
    "X[X.str.contains('screen')]"
   ]
  },
  {
   "cell_type": "code",
   "execution_count": 6,
   "id": "d4c6109d",
   "metadata": {},
   "outputs": [
    {
     "data": {
      "text/plain": [
       "Series([], Name: Summary, dtype: object)"
      ]
     },
     "execution_count": 6,
     "metadata": {},
     "output_type": "execute_result"
    }
   ],
   "source": [
    "X[X.str.contains('Steven Seagal')]"
   ]
  },
  {
   "cell_type": "code",
   "execution_count": 7,
   "id": "9ecb8574",
   "metadata": {},
   "outputs": [
    {
     "data": {
      "text/plain": [
       "(8529, 7973)"
      ]
     },
     "execution_count": 7,
     "metadata": {},
     "output_type": "execute_result"
    }
   ],
   "source": [
    "# docs_train_counts\n",
    "X_train_cv.shape"
   ]
  },
  {
   "cell_type": "markdown",
   "id": "b1fb57cd",
   "metadata": {},
   "source": [
    "* Convert raw frequency counts into Tfidf values\n",
    "* Using the fitted vectorizer and transformer, transform the test data"
   ]
  },
  {
   "cell_type": "code",
   "execution_count": 8,
   "id": "3ed7dbed",
   "metadata": {},
   "outputs": [],
   "source": [
    "tfidf_vectorizer = TfidfVectorizer()\n",
    "\n",
    "X_train_tfidf = tfidf_vectorizer.fit_transform(X_train)\n",
    "X_test_tfidf = tfidf_vectorizer.transform(X_test)"
   ]
  },
  {
   "cell_type": "markdown",
   "id": "6a3dc772",
   "metadata": {},
   "source": [
    "* Use the Multinomial NB as a classifier\n",
    "* Predict the test set results and determine the accuracy"
   ]
  },
  {
   "cell_type": "code",
   "execution_count": 9,
   "id": "e6be5990",
   "metadata": {},
   "outputs": [
    {
     "data": {
      "text/plain": [
       "0.7538677918424754"
      ]
     },
     "execution_count": 9,
     "metadata": {},
     "output_type": "execute_result"
    }
   ],
   "source": [
    "mnb = MultinomialNB()\n",
    "mnb.fit(X_train_tfidf,y_train)\n",
    "y_pred = mnb.predict(X_test_tfidf)\n",
    "\n",
    "score = accuracy_score(y_test, y_pred)\n",
    "score"
   ]
  },
  {
   "cell_type": "markdown",
   "id": "f9f67f3a",
   "metadata": {},
   "source": [
    "* Provide the confusion matrix\n",
    "* Provide the classification report"
   ]
  },
  {
   "cell_type": "code",
   "execution_count": 10,
   "id": "777baa99",
   "metadata": {},
   "outputs": [
    {
     "data": {
      "image/png": "[encoded data removed]",
      "text/plain": [
       "<Figure size 432x288 with 2 Axes>"
      ]
     },
     "metadata": {
      "needs_background": "light"
     },
     "output_type": "display_data"
    },
    {
     "name": "stdout",
     "output_type": "stream",
     "text": [
      "              precision    recall  f1-score   support\n",
      "\n",
      "           0       0.76      0.74      0.75      1071\n",
      "           1       0.75      0.77      0.76      1062\n",
      "\n",
      "    accuracy                           0.75      2133\n",
      "   macro avg       0.75      0.75      0.75      2133\n",
      "weighted avg       0.75      0.75      0.75      2133\n",
      "\n"
     ]
    }
   ],
   "source": [
    "disp = plot_confusion_matrix(mnb, X_test_tfidf, y_test)\n",
    "plt.show()\n",
    "\n",
    "print(classification_report(y_test, y_pred))"
   ]
  },
  {
   "cell_type": "markdown",
   "id": "07ac212b",
   "metadata": {},
   "source": [
    "* Use GridSearchCV with a logistic regression to identify accuracy, the best estimator, score and parameter. Use ‘scoring=roc_auc’ and ‘cv=5’\n",
    "* Provide the confusion matrix"
   ]
  },
  {
   "cell_type": "code",
   "execution_count": 15,
   "id": "2d8fde9c",
   "metadata": {},
   "outputs": [
    {
     "name": "stdout",
     "output_type": "stream",
     "text": [
      "Fitting 5 folds for each of 100 candidates, totalling 500 fits\n"
     ]
    },
    {
     "name": "stderr",
     "output_type": "stream",
     "text": [
      "[Parallel(n_jobs=1)]: Using backend SequentialBackend with 1 concurrent workers.\n",
      "[Parallel(n_jobs=1)]: Done 500 out of 500 | elapsed:   14.0s finished\n"
     ]
    },
    {
     "data": {
      "text/plain": [
       "GridSearchCV(cv=5, estimator=LogisticRegression(solver='liblinear'),\n",
       "             param_grid={'C': array([1.00000000e-04, 1.45634848e-04, 2.12095089e-04, 3.08884360e-04,\n",
       "       4.49843267e-04, 6.55128557e-04, 9.54095476e-04, 1.38949549e-03,\n",
       "       2.02358965e-03, 2.94705170e-03, 4.29193426e-03, 6.25055193e-03,\n",
       "       9.10298178e-03, 1.32571137e-02, 1.93069773e-02, 2.81176870e-02,\n",
       "       4.09491506e-02, 5.963...\n",
       "       3.72759372e+00, 5.42867544e+00, 7.90604321e+00, 1.15139540e+01,\n",
       "       1.67683294e+01, 2.44205309e+01, 3.55648031e+01, 5.17947468e+01,\n",
       "       7.54312006e+01, 1.09854114e+02, 1.59985872e+02, 2.32995181e+02,\n",
       "       3.39322177e+02, 4.94171336e+02, 7.19685673e+02, 1.04811313e+03,\n",
       "       1.52641797e+03, 2.22299648e+03, 3.23745754e+03, 4.71486636e+03,\n",
       "       6.86648845e+03, 1.00000000e+04]),\n",
       "                         'penalty': ['l1', 'l2']},\n",
       "             scoring='roc_auc', verbose=0.1)"
      ]
     },
     "execution_count": 15,
     "metadata": {},
     "output_type": "execute_result"
    }
   ],
   "source": [
    "logistic_reg  = LogisticRegression(solver='liblinear')\n",
    "grid_values = {'penalty': ['l1','l2'], 'C': np.logspace(-4, 4, 50)}\n",
    "\n",
    "cv_model = GridSearchCV(\n",
    "    estimator = logistic_reg,\n",
    "    param_grid = grid_values,\n",
    "    scoring = 'roc_auc',\n",
    "    cv = 5,\n",
    "    verbose = 0.1\n",
    ")\n",
    "\n",
    "cv_model.fit(X_train_tfidf,y_train)"
   ]
  },
  {
   "cell_type": "code",
   "execution_count": 16,
   "id": "2b6b202e",
   "metadata": {},
   "outputs": [
    {
     "name": "stdout",
     "output_type": "stream",
     "text": [
      "0.7538677918424754\n"
     ]
    },
    {
     "data": {
      "image/png": "[encoded data removed]",
      "text/plain": [
       "<Figure size 432x288 with 2 Axes>"
      ]
     },
     "metadata": {
      "needs_background": "light"
     },
     "output_type": "display_data"
    },
    {
     "name": "stdout",
     "output_type": "stream",
     "text": [
      "              precision    recall  f1-score   support\n",
      "\n",
      "           0       0.76      0.74      0.75      1071\n",
      "           1       0.75      0.77      0.76      1062\n",
      "\n",
      "    accuracy                           0.75      2133\n",
      "   macro avg       0.75      0.75      0.75      2133\n",
      "weighted avg       0.75      0.75      0.75      2133\n",
      "\n"
     ]
    }
   ],
   "source": [
    "lg_y_pred = mnb.predict(X_test_tfidf)\n",
    "\n",
    "print(accuracy_score(y_test, lg_y_pred))\n",
    "\n",
    "lg_disp = plot_confusion_matrix(cv_model, X_test_tfidf, y_test)\n",
    "plt.show()\n",
    "\n",
    "print(classification_report(y_test, lg_y_pred))"
   ]
  },
  {
   "cell_type": "code",
   "execution_count": null,
   "id": "52712f89",
   "metadata": {},
   "outputs": [],
   "source": []
  }
 ],
 "metadata": {
  "kernelspec": {
   "display_name": "Python 3",
   "language": "python",
   "name": "python3"
  },
  "language_info": {
   "codemirror_mode": {
    "name": "ipython",
    "version": 3
   },
   "file_extension": ".py",
   "mimetype": "text/x-python",
   "name": "python",
   "nbconvert_exporter": "python",
   "pygments_lexer": "ipython3",
   "version": "3.9.4"
  }
 },
 "nbformat": 4,
 "nbformat_minor": 5
}
